{
 "cells": [
  {
   "cell_type": "markdown",
   "id": "60f98dcb",
   "metadata": {
    "papermill": {
     "duration": 0.012041,
     "end_time": "2022-03-10T11:05:44.899053",
     "exception": false,
     "start_time": "2022-03-10T11:05:44.887012",
     "status": "completed"
    },
    "tags": []
   },
   "source": [
    "_In this notebook, I am trying to implement learn about **CAP – Cumulative Accuracy Profile analysis**_"
   ]
  },
  {
   "cell_type": "code",
   "execution_count": 1,
   "id": "648bc335",
   "metadata": {
    "_cell_guid": "b1076dfc-b9ad-4769-8c92-a6c4dae69d19",
    "_uuid": "8f2839f25d086af736a60e9eeb907d3b93b6e0e5",
    "execution": {
     "iopub.execute_input": "2022-03-10T11:05:44.928513Z",
     "iopub.status.busy": "2022-03-10T11:05:44.926719Z",
     "iopub.status.idle": "2022-03-10T11:05:44.942848Z",
     "shell.execute_reply": "2022-03-10T11:05:44.942212Z",
     "shell.execute_reply.started": "2022-03-10T10:35:38.897511Z"
    },
    "papermill": {
     "duration": 0.032277,
     "end_time": "2022-03-10T11:05:44.943005",
     "exception": false,
     "start_time": "2022-03-10T11:05:44.910728",
     "status": "completed"
    },
    "tags": []
   },
   "outputs": [
    {
     "name": "stdout",
     "output_type": "stream",
     "text": [
      "/kaggle/input/social-network-ads/Social_Network_Ads.csv\n"
     ]
    }
   ],
   "source": [
    "# This Python 3 environment comes with many helpful analytics libraries installed\n",
    "# It is defined by the kaggle/python Docker image: https://github.com/kaggle/docker-python\n",
    "# For example, here's several helpful packages to load\n",
    "\n",
    "import numpy as np # linear algebra\n",
    "import pandas as pd # data processing, CSV file I/O (e.g. pd.read_csv)\n",
    "\n",
    "# Input data files are available in the read-only \"../input/\" directory\n",
    "# For example, running this (by clicking run or pressing Shift+Enter) will list all files under the input directory\n",
    "\n",
    "import os\n",
    "for dirname, _, filenames in os.walk('/kaggle/input'):\n",
    "    for filename in filenames:\n",
    "        print(os.path.join(dirname, filename))\n",
    "\n",
    "# You can write up to 20GB to the current directory (/kaggle/working/) that gets preserved as output when you create a version using \"Save & Run All\" \n",
    "# You can also write temporary files to /kaggle/temp/, but they won't be saved outside of the current session"
   ]
  },
  {
   "cell_type": "code",
   "execution_count": 2,
   "id": "f31e758a",
   "metadata": {
    "execution": {
     "iopub.execute_input": "2022-03-10T11:05:44.971593Z",
     "iopub.status.busy": "2022-03-10T11:05:44.970905Z",
     "iopub.status.idle": "2022-03-10T11:05:46.368117Z",
     "shell.execute_reply": "2022-03-10T11:05:46.367472Z",
     "shell.execute_reply.started": "2022-03-10T10:44:42.230785Z"
    },
    "papermill": {
     "duration": 1.413416,
     "end_time": "2022-03-10T11:05:46.368252",
     "exception": false,
     "start_time": "2022-03-10T11:05:44.954836",
     "status": "completed"
    },
    "tags": []
   },
   "outputs": [],
   "source": [
    "#import the libraries\n",
    "import pandas as pd\n",
    "import numpy as np\n",
    "import matplotlib.pyplot as plt\n",
    "import seaborn as sns\n",
    "\n",
    "\n",
    "from sklearn.metrics import accuracy_score\n",
    "from sklearn.ensemble import RandomForestClassifier\n",
    "from sklearn.model_selection import train_test_split\n",
    "from sklearn.metrics import auc"
   ]
  },
  {
   "cell_type": "code",
   "execution_count": 3,
   "id": "97aa758f",
   "metadata": {
    "execution": {
     "iopub.execute_input": "2022-03-10T11:05:46.395850Z",
     "iopub.status.busy": "2022-03-10T11:05:46.395148Z",
     "iopub.status.idle": "2022-03-10T11:05:46.421055Z",
     "shell.execute_reply": "2022-03-10T11:05:46.420207Z",
     "shell.execute_reply.started": "2022-03-10T10:35:40.407230Z"
    },
    "papermill": {
     "duration": 0.04165,
     "end_time": "2022-03-10T11:05:46.421267",
     "exception": false,
     "start_time": "2022-03-10T11:05:46.379617",
     "status": "completed"
    },
    "tags": []
   },
   "outputs": [
    {
     "data": {
      "text/html": [
       "<div>\n",
       "<style scoped>\n",
       "    .dataframe tbody tr th:only-of-type {\n",
       "        vertical-align: middle;\n",
       "    }\n",
       "\n",
       "    .dataframe tbody tr th {\n",
       "        vertical-align: top;\n",
       "    }\n",
       "\n",
       "    .dataframe thead th {\n",
       "        text-align: right;\n",
       "    }\n",
       "</style>\n",
       "<table border=\"1\" class=\"dataframe\">\n",
       "  <thead>\n",
       "    <tr style=\"text-align: right;\">\n",
       "      <th></th>\n",
       "      <th>User ID</th>\n",
       "      <th>Gender</th>\n",
       "      <th>Age</th>\n",
       "      <th>EstimatedSalary</th>\n",
       "      <th>Purchased</th>\n",
       "    </tr>\n",
       "  </thead>\n",
       "  <tbody>\n",
       "    <tr>\n",
       "      <th>0</th>\n",
       "      <td>15624510</td>\n",
       "      <td>Male</td>\n",
       "      <td>19</td>\n",
       "      <td>19000</td>\n",
       "      <td>0</td>\n",
       "    </tr>\n",
       "    <tr>\n",
       "      <th>1</th>\n",
       "      <td>15810944</td>\n",
       "      <td>Male</td>\n",
       "      <td>35</td>\n",
       "      <td>20000</td>\n",
       "      <td>0</td>\n",
       "    </tr>\n",
       "    <tr>\n",
       "      <th>2</th>\n",
       "      <td>15668575</td>\n",
       "      <td>Female</td>\n",
       "      <td>26</td>\n",
       "      <td>43000</td>\n",
       "      <td>0</td>\n",
       "    </tr>\n",
       "    <tr>\n",
       "      <th>3</th>\n",
       "      <td>15603246</td>\n",
       "      <td>Female</td>\n",
       "      <td>27</td>\n",
       "      <td>57000</td>\n",
       "      <td>0</td>\n",
       "    </tr>\n",
       "    <tr>\n",
       "      <th>4</th>\n",
       "      <td>15804002</td>\n",
       "      <td>Male</td>\n",
       "      <td>19</td>\n",
       "      <td>76000</td>\n",
       "      <td>0</td>\n",
       "    </tr>\n",
       "  </tbody>\n",
       "</table>\n",
       "</div>"
      ],
      "text/plain": [
       "    User ID  Gender  Age  EstimatedSalary  Purchased\n",
       "0  15624510    Male   19            19000          0\n",
       "1  15810944    Male   35            20000          0\n",
       "2  15668575  Female   26            43000          0\n",
       "3  15603246  Female   27            57000          0\n",
       "4  15804002    Male   19            76000          0"
      ]
     },
     "execution_count": 3,
     "metadata": {},
     "output_type": "execute_result"
    }
   ],
   "source": [
    "#read the data\n",
    "data = pd.read_csv('/kaggle/input/social-network-ads/Social_Network_Ads.csv')\n",
    "data.head()"
   ]
  },
  {
   "cell_type": "markdown",
   "id": "69a46885",
   "metadata": {
    "papermill": {
     "duration": 0.013295,
     "end_time": "2022-03-10T11:05:46.449301",
     "exception": false,
     "start_time": "2022-03-10T11:05:46.436006",
     "status": "completed"
    },
    "tags": []
   },
   "source": [
    "For this demo, I am only taking the numerical columns namely **Age**, **EstimatedSalary** & **Purchased**"
   ]
  },
  {
   "cell_type": "code",
   "execution_count": 4,
   "id": "6da38313",
   "metadata": {
    "execution": {
     "iopub.execute_input": "2022-03-10T11:05:46.491510Z",
     "iopub.status.busy": "2022-03-10T11:05:46.490525Z",
     "iopub.status.idle": "2022-03-10T11:05:46.493528Z",
     "shell.execute_reply": "2022-03-10T11:05:46.493963Z",
     "shell.execute_reply.started": "2022-03-10T10:35:40.438246Z"
    },
    "papermill": {
     "duration": 0.029542,
     "end_time": "2022-03-10T11:05:46.494119",
     "exception": false,
     "start_time": "2022-03-10T11:05:46.464577",
     "status": "completed"
    },
    "tags": []
   },
   "outputs": [
    {
     "data": {
      "text/plain": [
       "((400, 2), (400,))"
      ]
     },
     "execution_count": 4,
     "metadata": {},
     "output_type": "execute_result"
    }
   ],
   "source": [
    "#define X & y\n",
    "X = data.iloc[:, 2:4]\n",
    "y = data.iloc[:,4]\n",
    "\n",
    "X.shape, y.shape"
   ]
  },
  {
   "cell_type": "code",
   "execution_count": 5,
   "id": "368eee59",
   "metadata": {
    "execution": {
     "iopub.execute_input": "2022-03-10T11:05:46.526240Z",
     "iopub.status.busy": "2022-03-10T11:05:46.525665Z",
     "iopub.status.idle": "2022-03-10T11:05:46.534263Z",
     "shell.execute_reply": "2022-03-10T11:05:46.533509Z",
     "shell.execute_reply.started": "2022-03-10T10:35:40.452493Z"
    },
    "papermill": {
     "duration": 0.025171,
     "end_time": "2022-03-10T11:05:46.534441",
     "exception": false,
     "start_time": "2022-03-10T11:05:46.509270",
     "status": "completed"
    },
    "tags": []
   },
   "outputs": [
    {
     "data": {
      "text/plain": [
       "((280, 2), (120, 2), (280,), (120,))"
      ]
     },
     "execution_count": 5,
     "metadata": {},
     "output_type": "execute_result"
    }
   ],
   "source": [
    "#splitting the training & test data\n",
    "x_train, x_test, y_train, y_test  = train_test_split(X,y, test_size=0.3, random_state=0)\n",
    "x_train.shape, x_test.shape, y_train.shape, y_test.shape"
   ]
  },
  {
   "cell_type": "code",
   "execution_count": 6,
   "id": "77eab7af",
   "metadata": {
    "execution": {
     "iopub.execute_input": "2022-03-10T11:05:46.564951Z",
     "iopub.status.busy": "2022-03-10T11:05:46.564372Z",
     "iopub.status.idle": "2022-03-10T11:05:47.114610Z",
     "shell.execute_reply": "2022-03-10T11:05:47.115121Z",
     "shell.execute_reply.started": "2022-03-10T10:35:40.468282Z"
    },
    "papermill": {
     "duration": 0.565384,
     "end_time": "2022-03-10T11:05:47.115339",
     "exception": false,
     "start_time": "2022-03-10T11:05:46.549955",
     "status": "completed"
    },
    "tags": []
   },
   "outputs": [],
   "source": [
    "#fit the classifier\n",
    "classifier = RandomForestClassifier(n_estimators=400)\n",
    "\n",
    "#training\n",
    "classifier.fit(x_train, y_train)\n",
    "\n",
    "#prediction\n",
    "pred = classifier.predict(x_test)"
   ]
  },
  {
   "cell_type": "code",
   "execution_count": 7,
   "id": "c8af2f4c",
   "metadata": {
    "execution": {
     "iopub.execute_input": "2022-03-10T11:05:47.143684Z",
     "iopub.status.busy": "2022-03-10T11:05:47.143061Z",
     "iopub.status.idle": "2022-03-10T11:05:47.147093Z",
     "shell.execute_reply": "2022-03-10T11:05:47.147776Z",
     "shell.execute_reply.started": "2022-03-10T10:35:41.040982Z"
    },
    "papermill": {
     "duration": 0.020118,
     "end_time": "2022-03-10T11:05:47.148133",
     "exception": false,
     "start_time": "2022-03-10T11:05:47.128015",
     "status": "completed"
    },
    "tags": []
   },
   "outputs": [
    {
     "name": "stdout",
     "output_type": "stream",
     "text": [
      "Accuracy:  0.9\n"
     ]
    }
   ],
   "source": [
    "#model performancy\n",
    "print('Accuracy: ', accuracy_score(y_test, pred))"
   ]
  },
  {
   "cell_type": "code",
   "execution_count": 8,
   "id": "ca14e45e",
   "metadata": {
    "execution": {
     "iopub.execute_input": "2022-03-10T11:05:47.178535Z",
     "iopub.status.busy": "2022-03-10T11:05:47.177897Z",
     "iopub.status.idle": "2022-03-10T11:05:47.362366Z",
     "shell.execute_reply": "2022-03-10T11:05:47.361751Z",
     "shell.execute_reply.started": "2022-03-10T10:36:58.626978Z"
    },
    "papermill": {
     "duration": 0.199942,
     "end_time": "2022-03-10T11:05:47.362519",
     "exception": false,
     "start_time": "2022-03-10T11:05:47.162577",
     "status": "completed"
    },
    "tags": []
   },
   "outputs": [
    {
     "data": {
      "image/png": "[encoded data removed]",
      "text/plain": [
       "<Figure size 432x288 with 1 Axes>"
      ]
     },
     "metadata": {
      "needs_background": "light"
     },
     "output_type": "display_data"
    }
   ],
   "source": [
    "ax = sns.countplot(x='Purchased', data=data)\n",
    "\n",
    "for p in ax.patches:\n",
    "    height = p.get_height()\n",
    "    ax.text(x=p.get_x()+ (p.get_width()/2),\n",
    "           y= height+5,\n",
    "           s=height)\n",
    "plt.show()"
   ]
  },
  {
   "cell_type": "code",
   "execution_count": 9,
   "id": "733949e0",
   "metadata": {
    "execution": {
     "iopub.execute_input": "2022-03-10T11:05:47.423563Z",
     "iopub.status.busy": "2022-03-10T11:05:47.418017Z",
     "iopub.status.idle": "2022-03-10T11:05:47.653776Z",
     "shell.execute_reply": "2022-03-10T11:05:47.654229Z",
     "shell.execute_reply.started": "2022-03-10T10:48:17.940204Z"
    },
    "papermill": {
     "duration": 0.27868,
     "end_time": "2022-03-10T11:05:47.654413",
     "exception": false,
     "start_time": "2022-03-10T11:05:47.375733",
     "status": "completed"
    },
    "tags": []
   },
   "outputs": [
    {
     "data": {
      "image/png": "[encoded data removed]",
      "text/plain": [
       "<Figure size 1440x864 with 1 Axes>"
      ]
     },
     "metadata": {
      "needs_background": "light"
     },
     "output_type": "display_data"
    }
   ],
   "source": [
    "#plotting\n",
    "total = len(y_test)\n",
    "\n",
    "#counting 1 lables in test data\n",
    "one_count = np.sum(y_test)\n",
    "\n",
    "#counting 0 lables\n",
    "zero_count = total - one_count\n",
    "\n",
    "#model plotting\n",
    "lm = [y for _,y in sorted(zip(pred,y_test), reverse=True)]\n",
    "x = np.arange(0, total+1)\n",
    "y = np.append([0], np.cumsum(lm))\n",
    "\n",
    "plt.figure(figsize = (20, 12))\n",
    "\n",
    "plt.plot([0,total], [0,one_count], c='b', linestyle='--', label='Random Model')\n",
    "plt.plot(x,y, c='r', label = 'Random Forest Classifier')\n",
    "plt.plot([0, one_count, total], [0, one_count, one_count],\n",
    "         c = 'grey', linewidth = 2, label = 'Perfect Model')\n",
    "# # Point where vertical line will cut trained model\n",
    "# index = int((50*total / 100))\n",
    "\n",
    "# ## 50% Verticcal line from x-axis\n",
    "# plt.plot([index, index], [0, y[index]], c ='g', linestyle = '--')\n",
    "\n",
    "# ## Horizontal line to y-axis from prediction model\n",
    "# plt.plot([0, index], [y[index], y[index]], c = 'g', linestyle = '--')\n",
    "\n",
    "# class_1_observed = y[index] * 100 / max(y)\n",
    "\n",
    "plt.legend()\n",
    "plt.show()\n",
    "\n",
    "\n"
   ]
  },
  {
   "cell_type": "markdown",
   "id": "1c530483",
   "metadata": {
    "papermill": {
     "duration": 0.014537,
     "end_time": "2022-03-10T11:05:47.683895",
     "exception": false,
     "start_time": "2022-03-10T11:05:47.669358",
     "status": "completed"
    },
    "tags": []
   },
   "source": [
    "## CAP Analysis using Area Under Curve\n",
    "The first method to analyse the CAP Curve is using Area Under Curve. Let’s consider area under random model as a. We calculate the Accuracy Rate using the following steps:\n",
    "* Calculate the area under the perfect model (aP) till the random model (a)\n",
    "* Calculate the area under the prediction model (aR) till the random model (a)\n",
    "* Calculate Accuracy Rate (AR) = aR / aP\n",
    "* The closer the Accuracy Rate is to the 1, better is the model."
   ]
  },
  {
   "cell_type": "code",
   "execution_count": 10,
   "id": "3896c7d2",
   "metadata": {
    "execution": {
     "iopub.execute_input": "2022-03-10T11:05:47.717300Z",
     "iopub.status.busy": "2022-03-10T11:05:47.716703Z",
     "iopub.status.idle": "2022-03-10T11:05:47.723292Z",
     "shell.execute_reply": "2022-03-10T11:05:47.723795Z",
     "shell.execute_reply.started": "2022-03-10T10:45:09.058793Z"
    },
    "papermill": {
     "duration": 0.025189,
     "end_time": "2022-03-10T11:05:47.723988",
     "exception": false,
     "start_time": "2022-03-10T11:05:47.698799",
     "status": "completed"
    },
    "tags": []
   },
   "outputs": [
    {
     "name": "stdout",
     "output_type": "stream",
     "text": [
      "Accuracy Rate for Random Forest Classifier: 0.9783883914788515\n"
     ]
    }
   ],
   "source": [
    "# Area under Random Model\n",
    "a = auc([0, total], [0, one_count])\n",
    "\n",
    "# Area between Perfect and Random Model\n",
    "aP = auc([0, one_count, total], [0, one_count, one_count]) - a\n",
    "\n",
    "# Area between Trained and Random Model\n",
    "aR = auc(x, y) - a\n",
    "\n",
    "print(\"Accuracy Rate for Random Forest Classifier: {}\".format(aR / aP))\n"
   ]
  },
  {
   "cell_type": "markdown",
   "id": "b93b5818",
   "metadata": {
    "papermill": {
     "duration": 0.014591,
     "end_time": "2022-03-10T11:05:47.753807",
     "exception": false,
     "start_time": "2022-03-10T11:05:47.739216",
     "status": "completed"
    },
    "tags": []
   },
   "source": [
    "# > *****### All code Ends Here!!*"
   ]
  },
  {
   "cell_type": "code",
   "execution_count": null,
   "id": "1d147354",
   "metadata": {
    "papermill": {
     "duration": 0.014738,
     "end_time": "2022-03-10T11:05:47.783572",
     "exception": false,
     "start_time": "2022-03-10T11:05:47.768834",
     "status": "completed"
    },
    "tags": []
   },
   "outputs": [],
   "source": []
  }
 ],
 "metadata": {
  "kernelspec": {
   "display_name": "Python 3",
   "language": "python",
   "name": "python3"
  },
  "language_info": {
   "codemirror_mode": {
    "name": "ipython",
    "version": 3
   },
   "file_extension": ".py",
   "mimetype": "text/x-python",
   "name": "python",
   "nbconvert_exporter": "python",
   "pygments_lexer": "ipython3",
   "version": "3.7.12"
  },
  "papermill": {
   "default_parameters": {},
   "duration": 12.075745,
   "end_time": "2022-03-10T11:05:48.508465",
   "environment_variables": {},
   "exception": null,
   "input_path": "__notebook__.ipynb",
   "output_path": "__notebook__.ipynb",
   "parameters": {},
   "start_time": "2022-03-10T11:05:36.432720",
   "version": "2.3.3"
  }
 },
 "nbformat": 4,
 "nbformat_minor": 5
}
