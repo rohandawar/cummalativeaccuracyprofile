{
 "cells": [
  {
   "cell_type": "markdown",
   "id": "24ec7f63",
   "metadata": {
    "papermill": {
     "duration": 0.011528,
     "end_time": "2022-03-10T09:49:04.838389",
     "exception": false,
     "start_time": "2022-03-10T09:49:04.826861",
     "status": "completed"
    },
    "tags": []
   },
   "source": [
    "_In this notebook, I am trying to implement learn about **CAP – Cumulative Accuracy Profile analysis**_"
   ]
  },
  {
   "cell_type": "code",
   "execution_count": 1,
   "id": "d5d1fd6c",
   "metadata": {
    "_cell_guid": "b1076dfc-b9ad-4769-8c92-a6c4dae69d19",
    "_uuid": "8f2839f25d086af736a60e9eeb907d3b93b6e0e5",
    "execution": {
     "iopub.execute_input": "2022-03-10T09:49:04.864173Z",
     "iopub.status.busy": "2022-03-10T09:49:04.862985Z",
     "iopub.status.idle": "2022-03-10T09:49:04.881091Z",
     "shell.execute_reply": "2022-03-10T09:49:04.881628Z",
     "shell.execute_reply.started": "2022-03-10T09:32:31.933767Z"
    },
    "papermill": {
     "duration": 0.032809,
     "end_time": "2022-03-10T09:49:04.881942",
     "exception": false,
     "start_time": "2022-03-10T09:49:04.849133",
     "status": "completed"
    },
    "tags": []
   },
   "outputs": [
    {
     "name": "stdout",
     "output_type": "stream",
     "text": [
      "/kaggle/input/social-network-ads/Social_Network_Ads.csv\n"
     ]
    }
   ],
   "source": [
    "# This Python 3 environment comes with many helpful analytics libraries installed\n",
    "# It is defined by the kaggle/python Docker image: https://github.com/kaggle/docker-python\n",
    "# For example, here's several helpful packages to load\n",
    "\n",
    "import numpy as np # linear algebra\n",
    "import pandas as pd # data processing, CSV file I/O (e.g. pd.read_csv)\n",
    "\n",
    "# Input data files are available in the read-only \"../input/\" directory\n",
    "# For example, running this (by clicking run or pressing Shift+Enter) will list all files under the input directory\n",
    "\n",
    "import os\n",
    "for dirname, _, filenames in os.walk('/kaggle/input'):\n",
    "    for filename in filenames:\n",
    "        print(os.path.join(dirname, filename))\n",
    "\n",
    "# You can write up to 20GB to the current directory (/kaggle/working/) that gets preserved as output when you create a version using \"Save & Run All\" \n",
    "# You can also write temporary files to /kaggle/temp/, but they won't be saved outside of the current session"
   ]
  },
  {
   "cell_type": "code",
   "execution_count": 2,
   "id": "d3e096e4",
   "metadata": {
    "execution": {
     "iopub.execute_input": "2022-03-10T09:49:04.906807Z",
     "iopub.status.busy": "2022-03-10T09:49:04.906145Z",
     "iopub.status.idle": "2022-03-10T09:49:06.383339Z",
     "shell.execute_reply": "2022-03-10T09:49:06.383920Z",
     "shell.execute_reply.started": "2022-03-10T09:34:51.459448Z"
    },
    "papermill": {
     "duration": 1.491006,
     "end_time": "2022-03-10T09:49:06.384108",
     "exception": false,
     "start_time": "2022-03-10T09:49:04.893102",
     "status": "completed"
    },
    "tags": []
   },
   "outputs": [],
   "source": [
    "#import the libraries\n",
    "import pandas as pd\n",
    "import numpy as np\n",
    "import matplotlib.pyplot as plt\n",
    "import seaborn as sns\n",
    "\n",
    "\n",
    "from sklearn.metrics import accuracy_score\n",
    "from sklearn.ensemble import RandomForestClassifier\n",
    "from sklearn.model_selection import train_test_split"
   ]
  },
  {
   "cell_type": "code",
   "execution_count": 3,
   "id": "38ed701c",
   "metadata": {
    "execution": {
     "iopub.execute_input": "2022-03-10T09:49:06.409797Z",
     "iopub.status.busy": "2022-03-10T09:49:06.409110Z",
     "iopub.status.idle": "2022-03-10T09:49:06.438310Z",
     "shell.execute_reply": "2022-03-10T09:49:06.438838Z",
     "shell.execute_reply.started": "2022-03-10T09:35:11.182759Z"
    },
    "papermill": {
     "duration": 0.043341,
     "end_time": "2022-03-10T09:49:06.439012",
     "exception": false,
     "start_time": "2022-03-10T09:49:06.395671",
     "status": "completed"
    },
    "tags": []
   },
   "outputs": [
    {
     "data": {
      "text/html": [
       "<div>\n",
       "<style scoped>\n",
       "    .dataframe tbody tr th:only-of-type {\n",
       "        vertical-align: middle;\n",
       "    }\n",
       "\n",
       "    .dataframe tbody tr th {\n",
       "        vertical-align: top;\n",
       "    }\n",
       "\n",
       "    .dataframe thead th {\n",
       "        text-align: right;\n",
       "    }\n",
       "</style>\n",
       "<table border=\"1\" class=\"dataframe\">\n",
       "  <thead>\n",
       "    <tr style=\"text-align: right;\">\n",
       "      <th></th>\n",
       "      <th>User ID</th>\n",
       "      <th>Gender</th>\n",
       "      <th>Age</th>\n",
       "      <th>EstimatedSalary</th>\n",
       "      <th>Purchased</th>\n",
       "    </tr>\n",
       "  </thead>\n",
       "  <tbody>\n",
       "    <tr>\n",
       "      <th>0</th>\n",
       "      <td>15624510</td>\n",
       "      <td>Male</td>\n",
       "      <td>19</td>\n",
       "      <td>19000</td>\n",
       "      <td>0</td>\n",
       "    </tr>\n",
       "    <tr>\n",
       "      <th>1</th>\n",
       "      <td>15810944</td>\n",
       "      <td>Male</td>\n",
       "      <td>35</td>\n",
       "      <td>20000</td>\n",
       "      <td>0</td>\n",
       "    </tr>\n",
       "    <tr>\n",
       "      <th>2</th>\n",
       "      <td>15668575</td>\n",
       "      <td>Female</td>\n",
       "      <td>26</td>\n",
       "      <td>43000</td>\n",
       "      <td>0</td>\n",
       "    </tr>\n",
       "    <tr>\n",
       "      <th>3</th>\n",
       "      <td>15603246</td>\n",
       "      <td>Female</td>\n",
       "      <td>27</td>\n",
       "      <td>57000</td>\n",
       "      <td>0</td>\n",
       "    </tr>\n",
       "    <tr>\n",
       "      <th>4</th>\n",
       "      <td>15804002</td>\n",
       "      <td>Male</td>\n",
       "      <td>19</td>\n",
       "      <td>76000</td>\n",
       "      <td>0</td>\n",
       "    </tr>\n",
       "  </tbody>\n",
       "</table>\n",
       "</div>"
      ],
      "text/plain": [
       "    User ID  Gender  Age  EstimatedSalary  Purchased\n",
       "0  15624510    Male   19            19000          0\n",
       "1  15810944    Male   35            20000          0\n",
       "2  15668575  Female   26            43000          0\n",
       "3  15603246  Female   27            57000          0\n",
       "4  15804002    Male   19            76000          0"
      ]
     },
     "execution_count": 3,
     "metadata": {},
     "output_type": "execute_result"
    }
   ],
   "source": [
    "#read the data\n",
    "data = pd.read_csv('/kaggle/input/social-network-ads/Social_Network_Ads.csv')\n",
    "data.head()"
   ]
  },
  {
   "cell_type": "markdown",
   "id": "c1e49def",
   "metadata": {
    "papermill": {
     "duration": 0.010973,
     "end_time": "2022-03-10T09:49:06.461347",
     "exception": false,
     "start_time": "2022-03-10T09:49:06.450374",
     "status": "completed"
    },
    "tags": []
   },
   "source": [
    "For this demo, I am only taking the numerical columns namely **Age**, **EstimatedSalary** & **Purchased**"
   ]
  },
  {
   "cell_type": "code",
   "execution_count": 4,
   "id": "2ea5caa7",
   "metadata": {
    "execution": {
     "iopub.execute_input": "2022-03-10T09:49:06.487360Z",
     "iopub.status.busy": "2022-03-10T09:49:06.486397Z",
     "iopub.status.idle": "2022-03-10T09:49:06.496930Z",
     "shell.execute_reply": "2022-03-10T09:49:06.497520Z",
     "shell.execute_reply.started": "2022-03-10T09:37:12.979554Z"
    },
    "papermill": {
     "duration": 0.025204,
     "end_time": "2022-03-10T09:49:06.497707",
     "exception": false,
     "start_time": "2022-03-10T09:49:06.472503",
     "status": "completed"
    },
    "tags": []
   },
   "outputs": [
    {
     "data": {
      "text/plain": [
       "((400, 2), (400,))"
      ]
     },
     "execution_count": 4,
     "metadata": {},
     "output_type": "execute_result"
    }
   ],
   "source": [
    "#define X & y\n",
    "X = data.iloc[:, 2:4]\n",
    "y = data.iloc[:,4]\n",
    "\n",
    "X.shape, y.shape"
   ]
  },
  {
   "cell_type": "code",
   "execution_count": 5,
   "id": "0d3970ff",
   "metadata": {
    "execution": {
     "iopub.execute_input": "2022-03-10T09:49:06.524256Z",
     "iopub.status.busy": "2022-03-10T09:49:06.523603Z",
     "iopub.status.idle": "2022-03-10T09:49:06.531870Z",
     "shell.execute_reply": "2022-03-10T09:49:06.532490Z",
     "shell.execute_reply.started": "2022-03-10T09:39:52.356041Z"
    },
    "papermill": {
     "duration": 0.023283,
     "end_time": "2022-03-10T09:49:06.532656",
     "exception": false,
     "start_time": "2022-03-10T09:49:06.509373",
     "status": "completed"
    },
    "tags": []
   },
   "outputs": [
    {
     "data": {
      "text/plain": [
       "((280, 2), (120, 2), (280,), (120,))"
      ]
     },
     "execution_count": 5,
     "metadata": {},
     "output_type": "execute_result"
    }
   ],
   "source": [
    "#splitting the training & test data\n",
    "x_train, x_test, y_train, y_test  = train_test_split(X,y, test_size=0.3, random_state=0)\n",
    "x_train.shape, x_test.shape, y_train.shape, y_test.shape"
   ]
  },
  {
   "cell_type": "code",
   "execution_count": 6,
   "id": "986dd54c",
   "metadata": {
    "execution": {
     "iopub.execute_input": "2022-03-10T09:49:06.561216Z",
     "iopub.status.busy": "2022-03-10T09:49:06.560231Z",
     "iopub.status.idle": "2022-03-10T09:49:07.300553Z",
     "shell.execute_reply": "2022-03-10T09:49:07.301224Z",
     "shell.execute_reply.started": "2022-03-10T09:40:55.433861Z"
    },
    "papermill": {
     "duration": 0.756127,
     "end_time": "2022-03-10T09:49:07.301416",
     "exception": false,
     "start_time": "2022-03-10T09:49:06.545289",
     "status": "completed"
    },
    "tags": []
   },
   "outputs": [],
   "source": [
    "#fit the classifier\n",
    "classifier = RandomForestClassifier(n_estimators=400)\n",
    "\n",
    "#training\n",
    "classifier.fit(x_train, y_train)\n",
    "\n",
    "#prediction\n",
    "pred = classifier.predict(x_test)"
   ]
  },
  {
   "cell_type": "code",
   "execution_count": 7,
   "id": "ca401f85",
   "metadata": {
    "execution": {
     "iopub.execute_input": "2022-03-10T09:49:07.332067Z",
     "iopub.status.busy": "2022-03-10T09:49:07.331374Z",
     "iopub.status.idle": "2022-03-10T09:49:07.337351Z",
     "shell.execute_reply": "2022-03-10T09:49:07.336796Z",
     "shell.execute_reply.started": "2022-03-10T09:41:32.606528Z"
    },
    "papermill": {
     "duration": 0.023611,
     "end_time": "2022-03-10T09:49:07.337487",
     "exception": false,
     "start_time": "2022-03-10T09:49:07.313876",
     "status": "completed"
    },
    "tags": []
   },
   "outputs": [
    {
     "name": "stdout",
     "output_type": "stream",
     "text": [
      "Accuracy:  0.9166666666666666\n"
     ]
    }
   ],
   "source": [
    "#model performancy\n",
    "print('Accuracy: ', accuracy_score(y_test, pred))"
   ]
  },
  {
   "cell_type": "code",
   "execution_count": null,
   "id": "cc481fa2",
   "metadata": {
    "papermill": {
     "duration": 0.012627,
     "end_time": "2022-03-10T09:49:07.362767",
     "exception": false,
     "start_time": "2022-03-10T09:49:07.350140",
     "status": "completed"
    },
    "tags": []
   },
   "outputs": [],
   "source": []
  }
 ],
 "metadata": {
  "kernelspec": {
   "display_name": "Python 3",
   "language": "python",
   "name": "python3"
  },
  "language_info": {
   "codemirror_mode": {
    "name": "ipython",
    "version": 3
   },
   "file_extension": ".py",
   "mimetype": "text/x-python",
   "name": "python",
   "nbconvert_exporter": "python",
   "pygments_lexer": "ipython3",
   "version": "3.7.12"
  },
  "papermill": {
   "default_parameters": {},
   "duration": 13.352132,
   "end_time": "2022-03-10T09:49:08.085897",
   "environment_variables": {},
   "exception": null,
   "input_path": "__notebook__.ipynb",
   "output_path": "__notebook__.ipynb",
   "parameters": {},
   "start_time": "2022-03-10T09:48:54.733765",
   "version": "2.3.3"
  }
 },
 "nbformat": 4,
 "nbformat_minor": 5
}
